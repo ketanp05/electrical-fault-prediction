{
 "cells": [
  {
   "cell_type": "markdown",
   "id": "36c36002-fa3c-482f-8c2a-f6da5a10ccff",
   "metadata": {},
   "source": [
    "**Data**"
   ]
  },
  {
   "cell_type": "code",
   "execution_count": 532,
   "id": "ebaba02d-2e59-48b8-ab44-8ac6828bccac",
   "metadata": {},
   "outputs": [],
   "source": [
    "# import all the required libraries\n",
    "import pandas as pd\n",
    "import numpy as np\n",
    "import seaborn as sns\n",
    "sns.set(style = \"white\")\n",
    "sns.set(style = \"whitegrid\", color_codes = \"True\")\n",
    "import matplotlib.pyplot as plt\n",
    "plt.rc(\"font\", size = 14)\n",
    "\n",
    "from sklearn import preprocessing\n",
    "from sklearn.linear_model import LogisticRegression\n",
    "from sklearn.model_selection import train_test_split\n",
    "from sklearn.metrics import confusion_matrix\n",
    "from sklearn.metrics import classification_report\n",
    "\n",
    "import warnings\n",
    "warnings.filterwarnings('ignore')"
   ]
  },
  {
   "cell_type": "code",
   "execution_count": 533,
   "id": "8c43b207-556e-4371-aa0b-195029466c74",
   "metadata": {},
   "outputs": [],
   "source": [
    "# read excel file\n",
    "df = pd.read_excel(\"Dataset_Year_2020.xlsx\")\n",
    "\n",
    "# copy of df for approach 2\n",
    "df2 = df.copy()\n",
    "\n",
    "# drop na values\n",
    "df = df.dropna()\n",
    "# df.isna().sum()\n",
    "\n",
    "# print df shape/rows and columns\n",
    "# print(df.shape)\n",
    "\n",
    "# print list of columns in dataframe\n",
    "# df_columns = list(df.columns)\n",
    "\n",
    "# print(df_columns)"
   ]
  },
  {
   "cell_type": "code",
   "execution_count": 534,
   "id": "9ade4d1d-f3a7-4c3e-a7ad-fad2649d8fb4",
   "metadata": {},
   "outputs": [
    {
     "data": {
      "text/html": [
       "<div>\n",
       "<style scoped>\n",
       "    .dataframe tbody tr th:only-of-type {\n",
       "        vertical-align: middle;\n",
       "    }\n",
       "\n",
       "    .dataframe tbody tr th {\n",
       "        vertical-align: top;\n",
       "    }\n",
       "\n",
       "    .dataframe thead th {\n",
       "        text-align: right;\n",
       "    }\n",
       "</style>\n",
       "<table border=\"1\" class=\"dataframe\">\n",
       "  <thead>\n",
       "    <tr style=\"text-align: right;\">\n",
       "      <th></th>\n",
       "      <th>LOCATION</th>\n",
       "      <th>POWER</th>\n",
       "      <th>SELF-PROTECTION</th>\n",
       "      <th>Average earth discharge density DDT [Rays/km^2-año]</th>\n",
       "      <th>Maximum ground discharge density DDT [Rays/km^2-año]</th>\n",
       "      <th>Burning rate  [Failures/year]</th>\n",
       "      <th>Criticality according to previous study for ceramics level</th>\n",
       "      <th>Removable connectors</th>\n",
       "      <th>Type of clients</th>\n",
       "      <th>Number of users</th>\n",
       "      <th>Electric power not supplied EENS [kWh]</th>\n",
       "      <th>Type of installation</th>\n",
       "      <th>Air network</th>\n",
       "      <th>Circuit Queue</th>\n",
       "      <th>km of network LT:</th>\n",
       "      <th>Burned transformers 2020</th>\n",
       "    </tr>\n",
       "  </thead>\n",
       "  <tbody>\n",
       "    <tr>\n",
       "      <th>0</th>\n",
       "      <td>1</td>\n",
       "      <td>112.5</td>\n",
       "      <td>0</td>\n",
       "      <td>3.155602</td>\n",
       "      <td>6.6</td>\n",
       "      <td>0.0</td>\n",
       "      <td>0</td>\n",
       "      <td>1</td>\n",
       "      <td>STRATUM 2</td>\n",
       "      <td>94</td>\n",
       "      <td>1822.5</td>\n",
       "      <td>MACRO WITHOUT ANTI-FRAUD NET</td>\n",
       "      <td>1</td>\n",
       "      <td>0</td>\n",
       "      <td>0.32362</td>\n",
       "      <td>0</td>\n",
       "    </tr>\n",
       "    <tr>\n",
       "      <th>1</th>\n",
       "      <td>1</td>\n",
       "      <td>10.0</td>\n",
       "      <td>0</td>\n",
       "      <td>3.155602</td>\n",
       "      <td>6.6</td>\n",
       "      <td>0.0</td>\n",
       "      <td>0</td>\n",
       "      <td>1</td>\n",
       "      <td>OFFICIAL</td>\n",
       "      <td>1</td>\n",
       "      <td>270.0</td>\n",
       "      <td>MACRO WITHOUT ANTI-FRAUD NET</td>\n",
       "      <td>1</td>\n",
       "      <td>0</td>\n",
       "      <td>0.30036</td>\n",
       "      <td>0</td>\n",
       "    </tr>\n",
       "    <tr>\n",
       "      <th>2</th>\n",
       "      <td>1</td>\n",
       "      <td>25.0</td>\n",
       "      <td>0</td>\n",
       "      <td>3.155602</td>\n",
       "      <td>6.6</td>\n",
       "      <td>0.0</td>\n",
       "      <td>0</td>\n",
       "      <td>1</td>\n",
       "      <td>STRATUM 2</td>\n",
       "      <td>74</td>\n",
       "      <td>405.0</td>\n",
       "      <td>MACRO WITHOUT ANTI-FRAUD NET</td>\n",
       "      <td>1</td>\n",
       "      <td>0</td>\n",
       "      <td>0.29695</td>\n",
       "      <td>0</td>\n",
       "    </tr>\n",
       "    <tr>\n",
       "      <th>3</th>\n",
       "      <td>1</td>\n",
       "      <td>75.0</td>\n",
       "      <td>0</td>\n",
       "      <td>3.155602</td>\n",
       "      <td>6.6</td>\n",
       "      <td>0.0</td>\n",
       "      <td>0</td>\n",
       "      <td>1</td>\n",
       "      <td>STRATUM 6</td>\n",
       "      <td>30</td>\n",
       "      <td>1215.0</td>\n",
       "      <td>MACRO WITHOUT ANTI-FRAUD NET</td>\n",
       "      <td>1</td>\n",
       "      <td>0</td>\n",
       "      <td>0.12575</td>\n",
       "      <td>0</td>\n",
       "    </tr>\n",
       "    <tr>\n",
       "      <th>4</th>\n",
       "      <td>1</td>\n",
       "      <td>75.0</td>\n",
       "      <td>0</td>\n",
       "      <td>3.155602</td>\n",
       "      <td>6.6</td>\n",
       "      <td>0.0</td>\n",
       "      <td>0</td>\n",
       "      <td>1</td>\n",
       "      <td>STRATUM 4</td>\n",
       "      <td>24</td>\n",
       "      <td>1215.0</td>\n",
       "      <td>MACRO WITHOUT ANTI-FRAUD NET</td>\n",
       "      <td>1</td>\n",
       "      <td>1</td>\n",
       "      <td>0.16605</td>\n",
       "      <td>0</td>\n",
       "    </tr>\n",
       "  </tbody>\n",
       "</table>\n",
       "</div>"
      ],
      "text/plain": [
       "   LOCATION  POWER  SELF-PROTECTION  \\\n",
       "0         1  112.5                0   \n",
       "1         1   10.0                0   \n",
       "2         1   25.0                0   \n",
       "3         1   75.0                0   \n",
       "4         1   75.0                0   \n",
       "\n",
       "   Average earth discharge density DDT [Rays/km^2-año]  \\\n",
       "0                                           3.155602     \n",
       "1                                           3.155602     \n",
       "2                                           3.155602     \n",
       "3                                           3.155602     \n",
       "4                                           3.155602     \n",
       "\n",
       "   Maximum ground discharge density DDT [Rays/km^2-año]  \\\n",
       "0                                                6.6      \n",
       "1                                                6.6      \n",
       "2                                                6.6      \n",
       "3                                                6.6      \n",
       "4                                                6.6      \n",
       "\n",
       "   Burning rate  [Failures/year]  \\\n",
       "0                            0.0   \n",
       "1                            0.0   \n",
       "2                            0.0   \n",
       "3                            0.0   \n",
       "4                            0.0   \n",
       "\n",
       "   Criticality according to previous study for ceramics level  \\\n",
       "0                                                  0            \n",
       "1                                                  0            \n",
       "2                                                  0            \n",
       "3                                                  0            \n",
       "4                                                  0            \n",
       "\n",
       "   Removable connectors Type of clients  Number of users  \\\n",
       "0                     1       STRATUM 2               94   \n",
       "1                     1        OFFICIAL                1   \n",
       "2                     1       STRATUM 2               74   \n",
       "3                     1       STRATUM 6               30   \n",
       "4                     1       STRATUM 4               24   \n",
       "\n",
       "   Electric power not supplied EENS [kWh]           Type of installation  \\\n",
       "0                                   1822.5  MACRO WITHOUT ANTI-FRAUD NET   \n",
       "1                                    270.0  MACRO WITHOUT ANTI-FRAUD NET   \n",
       "2                                    405.0  MACRO WITHOUT ANTI-FRAUD NET   \n",
       "3                                   1215.0  MACRO WITHOUT ANTI-FRAUD NET   \n",
       "4                                   1215.0  MACRO WITHOUT ANTI-FRAUD NET   \n",
       "\n",
       "   Air network  Circuit Queue  km of network LT:  Burned transformers 2020  \n",
       "0            1              0            0.32362                         0  \n",
       "1            1              0            0.30036                         0  \n",
       "2            1              0            0.29695                         0  \n",
       "3            1              0            0.12575                         0  \n",
       "4            1              1            0.16605                         0  "
      ]
     },
     "execution_count": 534,
     "metadata": {},
     "output_type": "execute_result"
    }
   ],
   "source": [
    "# display first 5 rows of the dataset\n",
    "df.head()"
   ]
  },
  {
   "cell_type": "code",
   "execution_count": 535,
   "id": "eb15bb5b-0d25-4061-8225-d7c8927c1374",
   "metadata": {},
   "outputs": [],
   "source": [
    "# df2.head()"
   ]
  },
  {
   "cell_type": "markdown",
   "id": "907eef3c-839a-47a3-af78-e39e42374745",
   "metadata": {},
   "source": [
    "**Data Exploration**"
   ]
  },
  {
   "cell_type": "code",
   "execution_count": 536,
   "id": "79c9d19f-8e04-41d2-bed5-7c7db99ffb22",
   "metadata": {
    "tags": []
   },
   "outputs": [
    {
     "data": {
      "text/plain": [
       "array(['STRATUM 2', 'OFFICIAL', 'STRATUM 6', 'STRATUM 4', 'STRATUM 1',\n",
       "       'STRATUM 3', 'STRATUM 5', 'COMMERCIAL', 'INDUSTRIAL'], dtype=object)"
      ]
     },
     "execution_count": 536,
     "metadata": {},
     "output_type": "execute_result"
    }
   ],
   "source": [
    "df['Type of clients'].unique() # to check if this could be merged or mapped to some value"
   ]
  },
  {
   "cell_type": "code",
   "execution_count": 537,
   "id": "8f48aa11-9ec8-4645-b200-0d6ed979c4e4",
   "metadata": {
    "tags": []
   },
   "outputs": [
    {
     "data": {
      "text/plain": [
       "array(['MACRO WITHOUT ANTI-FRAUD NET', 'POLE', 'POLE WITH ANTI-FRAU NET',\n",
       "       'EN H', 'PAD MOUNTED', 'TORRE METALICA', 'OTROS', 'CABINA'],\n",
       "      dtype=object)"
      ]
     },
     "execution_count": 537,
     "metadata": {},
     "output_type": "execute_result"
    }
   ],
   "source": [
    "df['Type of installation'].unique() # to check if this could be merged or mapped to some value"
   ]
  },
  {
   "cell_type": "code",
   "execution_count": 538,
   "id": "1aba036a-1293-4de8-84b8-1f414de51b73",
   "metadata": {
    "tags": []
   },
   "outputs": [
    {
     "data": {
      "text/plain": [
       "0    15244\n",
       "1      629\n",
       "Name: Burned transformers 2020, dtype: int64"
      ]
     },
     "execution_count": 538,
     "metadata": {},
     "output_type": "execute_result"
    }
   ],
   "source": [
    "# success(none burned) and failure(burned) count\n",
    "df['Burned transformers 2020'].value_counts()"
   ]
  },
  {
   "cell_type": "code",
   "execution_count": 539,
   "id": "183f72cc-fd5d-4220-aced-f853635a85b5",
   "metadata": {},
   "outputs": [
    {
     "name": "stdout",
     "output_type": "stream",
     "text": [
      "% of Success(none burned) in dataset:  3.9627039627039626\n",
      "% of Failure(burned) in dataset:  96.03729603729604\n"
     ]
    }
   ],
   "source": [
    "# calculate percentage of failure(none burned) and percentage of success(burned)\n",
    "count_success = len(df[df['Burned transformers 2020'] == 1])\n",
    "count_failure = len(df[df['Burned transformers 2020'] == 0])\n",
    "\n",
    "percentage_of_success = (count_success/(count_success+count_failure))*100\n",
    "percentage_of_failure = (count_failure/(count_failure+count_success))*100\n",
    "\n",
    "print(\"% of Success(none burned) in dataset: \", percentage_of_success)\n",
    "print(\"% of Failure(burned) in dataset: \", percentage_of_failure)"
   ]
  },
  {
   "cell_type": "code",
   "execution_count": 540,
   "id": "f9e6ae47-562a-4983-b968-36e8eca71dd6",
   "metadata": {},
   "outputs": [],
   "source": [
    "# our ratio of success and failure is quite imbalanced\n",
    "# % of Success(none burned) in dataset:  3.9627039627039626\n",
    "# % of Failure(burned) in dataset:  96.03729603729604"
   ]
  },
  {
   "cell_type": "code",
   "execution_count": 541,
   "id": "97dd979d-c76b-4a56-9148-f05d0b470ad8",
   "metadata": {},
   "outputs": [
    {
     "data": {
      "text/html": [
       "<div>\n",
       "<style scoped>\n",
       "    .dataframe tbody tr th:only-of-type {\n",
       "        vertical-align: middle;\n",
       "    }\n",
       "\n",
       "    .dataframe tbody tr th {\n",
       "        vertical-align: top;\n",
       "    }\n",
       "\n",
       "    .dataframe thead th {\n",
       "        text-align: right;\n",
       "    }\n",
       "</style>\n",
       "<table border=\"1\" class=\"dataframe\">\n",
       "  <thead>\n",
       "    <tr style=\"text-align: right;\">\n",
       "      <th></th>\n",
       "      <th>LOCATION</th>\n",
       "      <th>POWER</th>\n",
       "      <th>SELF-PROTECTION</th>\n",
       "      <th>Average earth discharge density DDT [Rays/km^2-año]</th>\n",
       "      <th>Maximum ground discharge density DDT [Rays/km^2-año]</th>\n",
       "      <th>Burning rate  [Failures/year]</th>\n",
       "      <th>Criticality according to previous study for ceramics level</th>\n",
       "      <th>Removable connectors</th>\n",
       "      <th>Number of users</th>\n",
       "      <th>Electric power not supplied EENS [kWh]</th>\n",
       "      <th>Air network</th>\n",
       "      <th>Circuit Queue</th>\n",
       "      <th>km of network LT:</th>\n",
       "    </tr>\n",
       "    <tr>\n",
       "      <th>Burned transformers 2020</th>\n",
       "      <th></th>\n",
       "      <th></th>\n",
       "      <th></th>\n",
       "      <th></th>\n",
       "      <th></th>\n",
       "      <th></th>\n",
       "      <th></th>\n",
       "      <th></th>\n",
       "      <th></th>\n",
       "      <th></th>\n",
       "      <th></th>\n",
       "      <th></th>\n",
       "      <th></th>\n",
       "    </tr>\n",
       "  </thead>\n",
       "  <tbody>\n",
       "    <tr>\n",
       "      <th>0</th>\n",
       "      <td>0.179349</td>\n",
       "      <td>27.700079</td>\n",
       "      <td>0.087903</td>\n",
       "      <td>2.219087</td>\n",
       "      <td>5.633016</td>\n",
       "      <td>0.076935</td>\n",
       "      <td>0.217266</td>\n",
       "      <td>0.489963</td>\n",
       "      <td>24.496851</td>\n",
       "      <td>554.282263</td>\n",
       "      <td>0.997835</td>\n",
       "      <td>0.443453</td>\n",
       "      <td>41642.181852</td>\n",
       "    </tr>\n",
       "    <tr>\n",
       "      <th>1</th>\n",
       "      <td>0.042925</td>\n",
       "      <td>16.911765</td>\n",
       "      <td>0.394277</td>\n",
       "      <td>2.504031</td>\n",
       "      <td>6.512242</td>\n",
       "      <td>0.088394</td>\n",
       "      <td>0.267091</td>\n",
       "      <td>0.397456</td>\n",
       "      <td>17.192369</td>\n",
       "      <td>363.092680</td>\n",
       "      <td>1.000000</td>\n",
       "      <td>0.422893</td>\n",
       "      <td>53450.202273</td>\n",
       "    </tr>\n",
       "  </tbody>\n",
       "</table>\n",
       "</div>"
      ],
      "text/plain": [
       "                          LOCATION      POWER  SELF-PROTECTION  \\\n",
       "Burned transformers 2020                                         \n",
       "0                         0.179349  27.700079         0.087903   \n",
       "1                         0.042925  16.911765         0.394277   \n",
       "\n",
       "                          Average earth discharge density DDT [Rays/km^2-año]  \\\n",
       "Burned transformers 2020                                                        \n",
       "0                                                                  2.219087     \n",
       "1                                                                  2.504031     \n",
       "\n",
       "                          Maximum ground discharge density DDT [Rays/km^2-año]  \\\n",
       "Burned transformers 2020                                                         \n",
       "0                                                                  5.633016      \n",
       "1                                                                  6.512242      \n",
       "\n",
       "                          Burning rate  [Failures/year]  \\\n",
       "Burned transformers 2020                                  \n",
       "0                                              0.076935   \n",
       "1                                              0.088394   \n",
       "\n",
       "                          Criticality according to previous study for ceramics level  \\\n",
       "Burned transformers 2020                                                               \n",
       "0                                                                  0.217266            \n",
       "1                                                                  0.267091            \n",
       "\n",
       "                          Removable connectors  Number of users  \\\n",
       "Burned transformers 2020                                          \n",
       "0                                     0.489963        24.496851   \n",
       "1                                     0.397456        17.192369   \n",
       "\n",
       "                          Electric power not supplied EENS [kWh]   \\\n",
       "Burned transformers 2020                                            \n",
       "0                                                      554.282263   \n",
       "1                                                      363.092680   \n",
       "\n",
       "                          Air network  Circuit Queue  km of network LT:  \n",
       "Burned transformers 2020                                                 \n",
       "0                            0.997835       0.443453       41642.181852  \n",
       "1                            1.000000       0.422893       53450.202273  "
      ]
     },
     "execution_count": 541,
     "metadata": {},
     "output_type": "execute_result"
    }
   ],
   "source": [
    "# calculating mean to get a general idea about the features (nature of our column values)\n",
    "df.groupby('Burned transformers 2020').mean()"
   ]
  },
  {
   "cell_type": "code",
   "execution_count": 542,
   "id": "9c703694-70bf-4d2e-854c-398cec662536",
   "metadata": {},
   "outputs": [],
   "source": [
    "# df[df.columns[0]].unique() # array([1, 0])\n",
    "# type(df['LOCATION'][0]) -> int\n",
    "\n",
    "# lets convert each value into float for RFE to accept it\n",
    "df[df.columns[0]] = [float(f) for f in df[df.columns[0]] ]\n",
    "\n",
    "# and similarly for df2\n",
    "df2[df2.columns[0]] = [float(f) for f in df2[df2.columns[0]] ]\n",
    "\n",
    "# df[df.columns[0]].unique() # array([1., 0.])\n",
    "# type(df['LOCATION'][0]) -> float"
   ]
  },
  {
   "cell_type": "markdown",
   "id": "4cc04de0-3490-4a79-83a9-0945c0bae082",
   "metadata": {},
   "source": [
    "**Visualization**"
   ]
  },
  {
   "cell_type": "code",
   "execution_count": 543,
   "id": "f5b69c13-7c62-48e2-9c1a-22662e88ea4d",
   "metadata": {
    "jupyter": {
     "source_hidden": true
    },
    "tags": []
   },
   "outputs": [],
   "source": [
    "# # explore in a graph\n",
    "# sns.countplot(x = 'Burned transformers 2020', data = df, palette = 'hls')\n",
    "# plt.show()"
   ]
  },
  {
   "cell_type": "code",
   "execution_count": 490,
   "id": "c7d7f30c-1f52-4130-9f84-9bbf3c0ac8f5",
   "metadata": {
    "jupyter": {
     "source_hidden": true
    },
    "tags": []
   },
   "outputs": [],
   "source": [
    "# %matplotlib inline\n",
    "# pd.crosstab(df[df_columns[1]], df[df_columns[-1]]).plot(kind = 'hist')\n",
    "# plt.title('Power vs Burned transformers')\n",
    "# plt.xlabel('Burned Transformers')\n",
    "# plt.ylabel('Power')"
   ]
  },
  {
   "cell_type": "code",
   "execution_count": 491,
   "id": "549805ac-903c-4dea-bc55-9fedea77919f",
   "metadata": {
    "jupyter": {
     "source_hidden": true
    },
    "tags": []
   },
   "outputs": [],
   "source": [
    "# %matplotlib inline\n",
    "# pd.crosstab(df[df_columns[2]], df[df_columns[-1]]).plot(kind = 'hist')\n",
    "# plt.title('Self protection vs Burned transformers')\n",
    "# plt.xlabel('Burned Transformers')\n",
    "# plt.ylabel('Self protection')"
   ]
  },
  {
   "cell_type": "code",
   "execution_count": 492,
   "id": "8114d878-eaaf-42a2-9124-c79b9bb15901",
   "metadata": {
    "jupyter": {
     "source_hidden": true
    },
    "tags": []
   },
   "outputs": [],
   "source": [
    "# %matplotlib inline\n",
    "# pd.crosstab(df[df_columns[9]], df[df_columns[-1]]).plot(kind = 'hist')\n",
    "# plt.title('Number of users vs Burned transformers')\n",
    "# plt.xlabel('Burned Transformers')\n",
    "# plt.ylabel('Number of users')"
   ]
  },
  {
   "cell_type": "code",
   "execution_count": 493,
   "id": "93bc034c-e742-46ae-8c5e-027b736edbc1",
   "metadata": {
    "jupyter": {
     "source_hidden": true
    },
    "tags": []
   },
   "outputs": [],
   "source": [
    "# %matplotlib inline\n",
    "# pd.crosstab(df[df_columns[10]], df[df_columns[-1]]).plot(kind = 'hist')\n",
    "# # table.div(table.sum(1).astype(float), axis=0).plot(kind='bar', stacked=True)\n",
    "# plt.title('EENS vs Burned transformers')\n",
    "# plt.xlabel('Burned Transformers')\n",
    "# plt.ylabel('EENS')"
   ]
  },
  {
   "cell_type": "code",
   "execution_count": 494,
   "id": "faccdc24-b5a0-4264-a1e9-c13c6d782e00",
   "metadata": {
    "jupyter": {
     "source_hidden": true
    },
    "tags": []
   },
   "outputs": [],
   "source": [
    "# %matplotlib inline\n",
    "# pd.crosstab(df[df_columns[14]], df[df_columns[-1]]).plot(kind = 'hist')\n",
    "# plt.title('Km of network vs Burned transformers')\n",
    "# plt.xlabel('Burned Transformers')\n",
    "# plt.ylabel('Km of network')\n",
    "# sns.countplot(x = df[df_columns[-1]], y = df[df_columns[14]], data = df)"
   ]
  },
  {
   "cell_type": "markdown",
   "id": "fc6a6d6c-9a24-496e-9f7f-4da44a58211d",
   "metadata": {},
   "source": [
    "**Data Modeling(Approach 1)**"
   ]
  },
  {
   "cell_type": "code",
   "execution_count": 544,
   "id": "993ae1d2-042f-4f38-a6b1-49821076debe",
   "metadata": {
    "tags": []
   },
   "outputs": [],
   "source": [
    "df.drop(['Type of clients', 'Type of installation'], axis = 1, inplace = True)\n",
    "# del df['Type of clients', 'Type of installation']\n",
    "\n",
    "X = df[ df.columns[:-1] ]\n",
    "y = df[ df.columns[-1] ]"
   ]
  },
  {
   "cell_type": "code",
   "execution_count": 545,
   "id": "282ba7be-51d9-4c42-8b6a-e792b0590d4e",
   "metadata": {
    "tags": []
   },
   "outputs": [],
   "source": [
    "# split the data\n",
    "X_train, X_test, y_train, y_test = train_test_split(X, y, test_size = 0.33, random_state = 42)"
   ]
  },
  {
   "cell_type": "code",
   "execution_count": 546,
   "id": "ce9ebc1b-4b62-42c7-bf54-942a3e2d46e4",
   "metadata": {
    "tags": []
   },
   "outputs": [],
   "source": [
    "# fit Logistic Regression\n",
    "logreg = LogisticRegression()\n",
    "logreg.fit(X_train, y_train)\n",
    "y_pred = logreg.predict(X_test)"
   ]
  },
  {
   "cell_type": "code",
   "execution_count": 547,
   "id": "6f7f30b0-7751-48a3-987c-b8f0679e91c2",
   "metadata": {
    "tags": []
   },
   "outputs": [
    {
     "name": "stdout",
     "output_type": "stream",
     "text": [
      "[[5030    0]\n",
      " [ 209    0]]\n"
     ]
    }
   ],
   "source": [
    "# print confusion matrix\n",
    "# pd.DataFrame(confusion_matrix(y_test, predict), columns = ['Predicted Failure(Burned)','Predicted Success(None Burned)'], index = ['Actual Failure(Burned)', 'Actual Success(None Burned)'])\n",
    "print(confusion_matrix(y_test, y_pred))"
   ]
  },
  {
   "cell_type": "code",
   "execution_count": 548,
   "id": "8bbf11f9-fcc7-40d7-8aa0-3754ac064257",
   "metadata": {
    "tags": []
   },
   "outputs": [
    {
     "name": "stdout",
     "output_type": "stream",
     "text": [
      "              precision    recall  f1-score   support\n",
      "\n",
      "           0       0.96      1.00      0.98      5030\n",
      "           1       0.00      0.00      0.00       209\n",
      "\n",
      "    accuracy                           0.96      5239\n",
      "   macro avg       0.48      0.50      0.49      5239\n",
      "weighted avg       0.92      0.96      0.94      5239\n",
      "\n"
     ]
    }
   ],
   "source": [
    "print(classification_report(y_test, y_pred))"
   ]
  },
  {
   "cell_type": "code",
   "execution_count": 549,
   "id": "19b75feb-3948-4fc4-87f1-b48d1d16b565",
   "metadata": {
    "tags": []
   },
   "outputs": [
    {
     "name": "stdout",
     "output_type": "stream",
     "text": [
      "Accuracy of logistic regression classifier on test set: 0.96\n"
     ]
    }
   ],
   "source": [
    "print('Accuracy of logistic regression classifier on test set: {:.2f}'.format(lr.score(X_test, y_test)))"
   ]
  },
  {
   "cell_type": "markdown",
   "id": "534b3488-d1f1-4e18-8275-8fc97468458d",
   "metadata": {
    "tags": []
   },
   "source": [
    "**Data Modeling(Approach 2)**"
   ]
  },
  {
   "cell_type": "code",
   "execution_count": 550,
   "id": "5ea42023-c1d0-4b88-b7e9-5e2b0fd29b68",
   "metadata": {},
   "outputs": [],
   "source": [
    "# my columns selction based on mean of each column compared with Burned Transformers(0 or 1)\n",
    "# X = df [ [df_columns[1], df_columns[2], df_columns[9], df_columns[10],  df_columns[14]] ] # [power, self_protection, no_of_users, eens, km of network]"
   ]
  },
  {
   "cell_type": "code",
   "execution_count": 551,
   "id": "4fdfa4ed-c9f8-48d4-a48e-24b1562a8f8a",
   "metadata": {},
   "outputs": [
    {
     "data": {
      "text/html": [
       "<div>\n",
       "<style scoped>\n",
       "    .dataframe tbody tr th:only-of-type {\n",
       "        vertical-align: middle;\n",
       "    }\n",
       "\n",
       "    .dataframe tbody tr th {\n",
       "        vertical-align: top;\n",
       "    }\n",
       "\n",
       "    .dataframe thead th {\n",
       "        text-align: right;\n",
       "    }\n",
       "</style>\n",
       "<table border=\"1\" class=\"dataframe\">\n",
       "  <thead>\n",
       "    <tr style=\"text-align: right;\">\n",
       "      <th></th>\n",
       "      <th>LOCATION</th>\n",
       "      <th>POWER</th>\n",
       "      <th>SELF-PROTECTION</th>\n",
       "      <th>Average earth discharge density DDT [Rays/km^2-año]</th>\n",
       "      <th>Maximum ground discharge density DDT [Rays/km^2-año]</th>\n",
       "      <th>Burning rate  [Failures/year]</th>\n",
       "      <th>Criticality according to previous study for ceramics level</th>\n",
       "      <th>Removable connectors</th>\n",
       "      <th>Number of users</th>\n",
       "      <th>Electric power not supplied EENS [kWh]</th>\n",
       "      <th>Air network</th>\n",
       "      <th>Circuit Queue</th>\n",
       "      <th>km of network LT:</th>\n",
       "    </tr>\n",
       "  </thead>\n",
       "  <tbody>\n",
       "    <tr>\n",
       "      <th>0</th>\n",
       "      <td>1.0</td>\n",
       "      <td>112.5</td>\n",
       "      <td>0</td>\n",
       "      <td>3.155602</td>\n",
       "      <td>6.6</td>\n",
       "      <td>0.0</td>\n",
       "      <td>0</td>\n",
       "      <td>1</td>\n",
       "      <td>94</td>\n",
       "      <td>1822.5</td>\n",
       "      <td>1</td>\n",
       "      <td>0</td>\n",
       "      <td>0.32362</td>\n",
       "    </tr>\n",
       "    <tr>\n",
       "      <th>1</th>\n",
       "      <td>1.0</td>\n",
       "      <td>10.0</td>\n",
       "      <td>0</td>\n",
       "      <td>3.155602</td>\n",
       "      <td>6.6</td>\n",
       "      <td>0.0</td>\n",
       "      <td>0</td>\n",
       "      <td>1</td>\n",
       "      <td>1</td>\n",
       "      <td>270.0</td>\n",
       "      <td>1</td>\n",
       "      <td>0</td>\n",
       "      <td>0.30036</td>\n",
       "    </tr>\n",
       "    <tr>\n",
       "      <th>2</th>\n",
       "      <td>1.0</td>\n",
       "      <td>25.0</td>\n",
       "      <td>0</td>\n",
       "      <td>3.155602</td>\n",
       "      <td>6.6</td>\n",
       "      <td>0.0</td>\n",
       "      <td>0</td>\n",
       "      <td>1</td>\n",
       "      <td>74</td>\n",
       "      <td>405.0</td>\n",
       "      <td>1</td>\n",
       "      <td>0</td>\n",
       "      <td>0.29695</td>\n",
       "    </tr>\n",
       "    <tr>\n",
       "      <th>3</th>\n",
       "      <td>1.0</td>\n",
       "      <td>75.0</td>\n",
       "      <td>0</td>\n",
       "      <td>3.155602</td>\n",
       "      <td>6.6</td>\n",
       "      <td>0.0</td>\n",
       "      <td>0</td>\n",
       "      <td>1</td>\n",
       "      <td>30</td>\n",
       "      <td>1215.0</td>\n",
       "      <td>1</td>\n",
       "      <td>0</td>\n",
       "      <td>0.12575</td>\n",
       "    </tr>\n",
       "    <tr>\n",
       "      <th>4</th>\n",
       "      <td>1.0</td>\n",
       "      <td>75.0</td>\n",
       "      <td>0</td>\n",
       "      <td>3.155602</td>\n",
       "      <td>6.6</td>\n",
       "      <td>0.0</td>\n",
       "      <td>0</td>\n",
       "      <td>1</td>\n",
       "      <td>24</td>\n",
       "      <td>1215.0</td>\n",
       "      <td>1</td>\n",
       "      <td>1</td>\n",
       "      <td>0.16605</td>\n",
       "    </tr>\n",
       "    <tr>\n",
       "      <th>5</th>\n",
       "      <td>1.0</td>\n",
       "      <td>30.0</td>\n",
       "      <td>0</td>\n",
       "      <td>3.155602</td>\n",
       "      <td>6.6</td>\n",
       "      <td>0.0</td>\n",
       "      <td>0</td>\n",
       "      <td>1</td>\n",
       "      <td>31</td>\n",
       "      <td>486.0</td>\n",
       "      <td>1</td>\n",
       "      <td>0</td>\n",
       "      <td>0.19180</td>\n",
       "    </tr>\n",
       "    <tr>\n",
       "      <th>6</th>\n",
       "      <td>1.0</td>\n",
       "      <td>112.5</td>\n",
       "      <td>0</td>\n",
       "      <td>3.155602</td>\n",
       "      <td>6.6</td>\n",
       "      <td>0.0</td>\n",
       "      <td>0</td>\n",
       "      <td>1</td>\n",
       "      <td>140</td>\n",
       "      <td>1822.5</td>\n",
       "      <td>1</td>\n",
       "      <td>0</td>\n",
       "      <td>0.69712</td>\n",
       "    </tr>\n",
       "    <tr>\n",
       "      <th>7</th>\n",
       "      <td>1.0</td>\n",
       "      <td>45.0</td>\n",
       "      <td>0</td>\n",
       "      <td>3.155602</td>\n",
       "      <td>6.6</td>\n",
       "      <td>0.4</td>\n",
       "      <td>0</td>\n",
       "      <td>1</td>\n",
       "      <td>47</td>\n",
       "      <td>729.0</td>\n",
       "      <td>1</td>\n",
       "      <td>0</td>\n",
       "      <td>0.13414</td>\n",
       "    </tr>\n",
       "    <tr>\n",
       "      <th>8</th>\n",
       "      <td>1.0</td>\n",
       "      <td>75.0</td>\n",
       "      <td>0</td>\n",
       "      <td>3.155602</td>\n",
       "      <td>6.6</td>\n",
       "      <td>0.0</td>\n",
       "      <td>0</td>\n",
       "      <td>1</td>\n",
       "      <td>63</td>\n",
       "      <td>1215.0</td>\n",
       "      <td>1</td>\n",
       "      <td>1</td>\n",
       "      <td>0.34577</td>\n",
       "    </tr>\n",
       "    <tr>\n",
       "      <th>9</th>\n",
       "      <td>1.0</td>\n",
       "      <td>75.0</td>\n",
       "      <td>0</td>\n",
       "      <td>3.155602</td>\n",
       "      <td>6.6</td>\n",
       "      <td>0.0</td>\n",
       "      <td>0</td>\n",
       "      <td>1</td>\n",
       "      <td>46</td>\n",
       "      <td>1215.0</td>\n",
       "      <td>1</td>\n",
       "      <td>0</td>\n",
       "      <td>0.19579</td>\n",
       "    </tr>\n",
       "  </tbody>\n",
       "</table>\n",
       "</div>"
      ],
      "text/plain": [
       "   LOCATION  POWER  SELF-PROTECTION  \\\n",
       "0       1.0  112.5                0   \n",
       "1       1.0   10.0                0   \n",
       "2       1.0   25.0                0   \n",
       "3       1.0   75.0                0   \n",
       "4       1.0   75.0                0   \n",
       "5       1.0   30.0                0   \n",
       "6       1.0  112.5                0   \n",
       "7       1.0   45.0                0   \n",
       "8       1.0   75.0                0   \n",
       "9       1.0   75.0                0   \n",
       "\n",
       "   Average earth discharge density DDT [Rays/km^2-año]  \\\n",
       "0                                           3.155602     \n",
       "1                                           3.155602     \n",
       "2                                           3.155602     \n",
       "3                                           3.155602     \n",
       "4                                           3.155602     \n",
       "5                                           3.155602     \n",
       "6                                           3.155602     \n",
       "7                                           3.155602     \n",
       "8                                           3.155602     \n",
       "9                                           3.155602     \n",
       "\n",
       "   Maximum ground discharge density DDT [Rays/km^2-año]  \\\n",
       "0                                                6.6      \n",
       "1                                                6.6      \n",
       "2                                                6.6      \n",
       "3                                                6.6      \n",
       "4                                                6.6      \n",
       "5                                                6.6      \n",
       "6                                                6.6      \n",
       "7                                                6.6      \n",
       "8                                                6.6      \n",
       "9                                                6.6      \n",
       "\n",
       "   Burning rate  [Failures/year]  \\\n",
       "0                            0.0   \n",
       "1                            0.0   \n",
       "2                            0.0   \n",
       "3                            0.0   \n",
       "4                            0.0   \n",
       "5                            0.0   \n",
       "6                            0.0   \n",
       "7                            0.4   \n",
       "8                            0.0   \n",
       "9                            0.0   \n",
       "\n",
       "   Criticality according to previous study for ceramics level  \\\n",
       "0                                                  0            \n",
       "1                                                  0            \n",
       "2                                                  0            \n",
       "3                                                  0            \n",
       "4                                                  0            \n",
       "5                                                  0            \n",
       "6                                                  0            \n",
       "7                                                  0            \n",
       "8                                                  0            \n",
       "9                                                  0            \n",
       "\n",
       "   Removable connectors  Number of users  \\\n",
       "0                     1               94   \n",
       "1                     1                1   \n",
       "2                     1               74   \n",
       "3                     1               30   \n",
       "4                     1               24   \n",
       "5                     1               31   \n",
       "6                     1              140   \n",
       "7                     1               47   \n",
       "8                     1               63   \n",
       "9                     1               46   \n",
       "\n",
       "   Electric power not supplied EENS [kWh]   Air network  Circuit Queue  \\\n",
       "0                                   1822.5            1              0   \n",
       "1                                    270.0            1              0   \n",
       "2                                    405.0            1              0   \n",
       "3                                   1215.0            1              0   \n",
       "4                                   1215.0            1              1   \n",
       "5                                    486.0            1              0   \n",
       "6                                   1822.5            1              0   \n",
       "7                                    729.0            1              0   \n",
       "8                                   1215.0            1              1   \n",
       "9                                   1215.0            1              0   \n",
       "\n",
       "   km of network LT:  \n",
       "0            0.32362  \n",
       "1            0.30036  \n",
       "2            0.29695  \n",
       "3            0.12575  \n",
       "4            0.16605  \n",
       "5            0.19180  \n",
       "6            0.69712  \n",
       "7            0.13414  \n",
       "8            0.34577  \n",
       "9            0.19579  "
      ]
     },
     "execution_count": 551,
     "metadata": {},
     "output_type": "execute_result"
    }
   ],
   "source": [
    "# dropping string columns Type of clients and Type of installation as RFE gives erros in data type conversion\n",
    "df2.drop(['Type of clients', 'Type of installation'], axis = 1, inplace = True) \n",
    "\n",
    "\n",
    "# lets keep all columns and let RFE decide the final ones\n",
    "X = df2[ df2.columns[:-1] ]\n",
    "y = df2[ [df2.columns[-1]] ]\n",
    "X.head(10)"
   ]
  },
  {
   "cell_type": "code",
   "execution_count": 552,
   "id": "8207629f-a116-4f3f-95d0-63eea15c0ea4",
   "metadata": {
    "tags": []
   },
   "outputs": [
    {
     "name": "stdout",
     "output_type": "stream",
     "text": [
      "[False  True False  True  True False False  True  True False  True False\n",
      " False]\n",
      "[2 1 2 1 1 2 2 1 1 2 1 2 2]\n"
     ]
    }
   ],
   "source": [
    "# feature selection using Recursive Feature Elimination\n",
    "from sklearn.feature_selection import RFE\n",
    "logreg = LogisticRegression()\n",
    "rfe = RFE(logreg, step = 20)\n",
    "rfe = rfe.fit(X, y.values.ravel())\n",
    "print(rfe.support_) # best ones are assigned rank 1\n",
    "print(rfe.ranking_)"
   ]
  },
  {
   "cell_type": "code",
   "execution_count": 553,
   "id": "e71c1a66-af1c-4f38-bd7d-8981892cf3e2",
   "metadata": {},
   "outputs": [
    {
     "data": {
      "text/plain": [
       "[['LOCATION', False],\n",
       " ['POWER', True],\n",
       " ['SELF-PROTECTION', False],\n",
       " ['Average earth discharge density DDT [Rays/km^2-año]', True],\n",
       " ['Maximum ground discharge density DDT [Rays/km^2-año]', True],\n",
       " ['Burning rate  [Failures/year]', False],\n",
       " ['Criticality according to previous study for ceramics level', False],\n",
       " ['Removable connectors', True],\n",
       " ['Number of users', True],\n",
       " ['Electric power not supplied EENS [kWh] ', False],\n",
       " ['Air network', True],\n",
       " ['Circuit Queue', False],\n",
       " ['km of network LT:', False]]"
      ]
     },
     "execution_count": 553,
     "metadata": {},
     "output_type": "execute_result"
    }
   ],
   "source": [
    "# mapping columns to its result(True - relevant or False - irrelevant)\n",
    "X_RFE_map = [[X.columns[i], rfe.support_[i]] for i in range( len(X.columns)) ]\n",
    "X_RFE_map"
   ]
  },
  {
   "cell_type": "code",
   "execution_count": 554,
   "id": "bf12f25c-ae9c-4f7c-9426-d2fef2b38bd2",
   "metadata": {},
   "outputs": [
    {
     "data": {
      "text/plain": [
       "['POWER',\n",
       " 'Average earth discharge density DDT [Rays/km^2-año]',\n",
       " 'Maximum ground discharge density DDT [Rays/km^2-año]',\n",
       " 'Removable connectors',\n",
       " 'Number of users',\n",
       " 'Air network']"
      ]
     },
     "execution_count": 554,
     "metadata": {},
     "output_type": "execute_result"
    }
   ],
   "source": [
    "# collecting all relevant features\n",
    "true_RFE_cols = [X_RFE_map[i][0] for i in range(len(X_RFE_map)) if (X_RFE_map[i][1] == True) ]\n",
    "true_RFE_cols"
   ]
  },
  {
   "cell_type": "code",
   "execution_count": 555,
   "id": "26c5d67a-b574-43d9-a6f9-6754c7254002",
   "metadata": {},
   "outputs": [],
   "source": [
    "# my selection based on mean: [power, self_protection, no_of_users, eens, km of network]\n",
    "# so our RFE has chosen the following: [power, self_protection, max ground discharge density ddt, removable connectors, air network, circuit queue, burned transformers]"
   ]
  },
  {
   "cell_type": "markdown",
   "id": "06c114a4-2977-4000-9e48-7b0bbca342e8",
   "metadata": {},
   "source": [
    "**Implementing the model**"
   ]
  },
  {
   "cell_type": "code",
   "execution_count": 556,
   "id": "f4b39be1-32fd-4a74-9632-cf0cbcb310a8",
   "metadata": {
    "tags": []
   },
   "outputs": [],
   "source": [
    "# df.corr() # to find corelation"
   ]
  },
  {
   "cell_type": "code",
   "execution_count": 557,
   "id": "de7eecb9-df94-4203-ab67-b0c9d03417e5",
   "metadata": {},
   "outputs": [
    {
     "name": "stdout",
     "output_type": "stream",
     "text": [
      "Optimization terminated successfully.\n",
      "         Current function value: 0.160873\n",
      "         Iterations 9\n",
      "                                           Results: Logit\n",
      "=====================================================================================================\n",
      "Model:                        Logit                             Pseudo R-squared:          0.035     \n",
      "Dependent Variable:           Burned transformers 2020          AIC:                       5119.0750 \n",
      "Date:                         2022-09-19 03:28                  BIC:                       5165.1093 \n",
      "No. Observations:             15873                             Log-Likelihood:            -2553.5   \n",
      "Df Model:                     5                                 LL-Null:                   -2646.9   \n",
      "Df Residuals:                 15867                             LLR p-value:               1.8924e-38\n",
      "Converged:                    1.0000                            Scale:                     1.0000    \n",
      "No. Iterations:               9.0000                                                                 \n",
      "-----------------------------------------------------------------------------------------------------\n",
      "                                                      Coef.  Std.Err.    z     P>|z|   [0.025  0.975]\n",
      "-----------------------------------------------------------------------------------------------------\n",
      "POWER                                                -0.0377   0.0043  -8.7278 0.0000 -0.0461 -0.0292\n",
      "Average earth discharge density DDT [Rays/km^2-año]  -0.1138   0.0700  -1.6261 0.1039 -0.2510  0.0234\n",
      "Maximum ground discharge density DDT [Rays/km^2-año]  0.1133   0.0331   3.4202 0.0006  0.0484  0.1783\n",
      "Removable connectors                                 -0.3755   0.0861  -4.3627 0.0000 -0.5442 -0.2068\n",
      "Number of users                                       0.0095   0.0025   3.8571 0.0001  0.0047  0.0143\n",
      "Air network                                          -2.8554   0.1022 -27.9503 0.0000 -3.0557 -2.6552\n",
      "=====================================================================================================\n",
      "\n"
     ]
    }
   ],
   "source": [
    "# this below set of steps will help us eliminate columns with p-values < 0.05 (which are our irrelevant features)\n",
    "X = df2[ true_RFE_cols ]\n",
    "\n",
    "import statsmodels.api as sm\n",
    "logit_model = sm.Logit(y, X)\n",
    "result = logit_model.fit()\n",
    "print(result.summary2())"
   ]
  },
  {
   "cell_type": "code",
   "execution_count": 558,
   "id": "2478face-9aaa-40a5-889b-35abed695b73",
   "metadata": {},
   "outputs": [],
   "source": [
    "# The p-values for most of the variables are smaller than 0.05, except for 'Average earth discharge density DDT [Rays/km^2-año]' variable, therefore, we will remove it"
   ]
  },
  {
   "cell_type": "code",
   "execution_count": 559,
   "id": "223c432a-026a-4942-97ae-a728015d4d72",
   "metadata": {},
   "outputs": [
    {
     "name": "stdout",
     "output_type": "stream",
     "text": [
      "Optimization terminated successfully.\n",
      "         Current function value: 0.160956\n",
      "         Iterations 9\n",
      "                                           Results: Logit\n",
      "=====================================================================================================\n",
      "Model:                        Logit                             Pseudo R-squared:          0.035     \n",
      "Dependent Variable:           Burned transformers 2020          AIC:                       5119.7173 \n",
      "Date:                         2022-09-19 03:28                  BIC:                       5158.0792 \n",
      "No. Observations:             15873                             Log-Likelihood:            -2554.9   \n",
      "Df Model:                     4                                 LL-Null:                   -2646.9   \n",
      "Df Residuals:                 15868                             LLR p-value:               9.5674e-39\n",
      "Converged:                    1.0000                            Scale:                     1.0000    \n",
      "No. Iterations:               9.0000                                                                 \n",
      "-----------------------------------------------------------------------------------------------------\n",
      "                                                      Coef.  Std.Err.    z     P>|z|   [0.025  0.975]\n",
      "-----------------------------------------------------------------------------------------------------\n",
      "POWER                                                -0.0382   0.0043  -8.8804 0.0000 -0.0466 -0.0298\n",
      "Maximum ground discharge density DDT [Rays/km^2-año]  0.0618   0.0099   6.2273 0.0000  0.0423  0.0812\n",
      "Removable connectors                                 -0.3755   0.0860  -4.3656 0.0000 -0.5441 -0.2069\n",
      "Number of users                                       0.0091   0.0024   3.7121 0.0002  0.0043  0.0139\n",
      "Air network                                          -2.7913   0.0943 -29.6089 0.0000 -2.9760 -2.6065\n",
      "=====================================================================================================\n",
      "\n"
     ]
    }
   ],
   "source": [
    "# collecting relevant features except DDT\n",
    "final_RFE_cols = [col for col in true_RFE_cols if col != 'Average earth discharge density DDT [Rays/km^2-año]']\n",
    "X = df2[ final_RFE_cols ]\n",
    "\n",
    "logit_model = sm.Logit(y, X)\n",
    "result = logit_model.fit()\n",
    "print(result.summary2())"
   ]
  },
  {
   "cell_type": "code",
   "execution_count": 560,
   "id": "85b83a0f-6ee5-4b92-953f-01b745d25fcf",
   "metadata": {},
   "outputs": [
    {
     "data": {
      "text/plain": [
       "LogisticRegression()"
      ]
     },
     "execution_count": 560,
     "metadata": {},
     "output_type": "execute_result"
    }
   ],
   "source": [
    "# splitting data into training and testing\n",
    "X_train, X_test, y_train, y_test = train_test_split(X, y.values.ravel(), test_size = 0.33, random_state = 42)\n",
    "logreg = LogisticRegression()\n",
    "logreg.fit(X_train, y_train)"
   ]
  },
  {
   "cell_type": "code",
   "execution_count": 561,
   "id": "0362fe0b-9f48-4ef5-ab02-9f12ef8467b7",
   "metadata": {},
   "outputs": [],
   "source": [
    "y_pred = logreg.predict(X_test)"
   ]
  },
  {
   "cell_type": "code",
   "execution_count": 562,
   "id": "878cdbb8-8f2b-4cc4-a5ea-3a298ea9ece1",
   "metadata": {},
   "outputs": [
    {
     "name": "stdout",
     "output_type": "stream",
     "text": [
      "[[5030    0]\n",
      " [ 209    0]]\n"
     ]
    }
   ],
   "source": [
    "# display confusion matrix\n",
    "confusion_matrix = confusion_matrix(y_test, y_pred)\n",
    "print(confusion_matrix)"
   ]
  },
  {
   "cell_type": "code",
   "execution_count": 563,
   "id": "bc51d58a-893c-4a04-ae4f-a401af7b0242",
   "metadata": {},
   "outputs": [
    {
     "name": "stdout",
     "output_type": "stream",
     "text": [
      "              precision    recall  f1-score   support\n",
      "\n",
      "           0       0.96      1.00      0.98      5030\n",
      "           1       0.00      0.00      0.00       209\n",
      "\n",
      "    accuracy                           0.96      5239\n",
      "   macro avg       0.48      0.50      0.49      5239\n",
      "weighted avg       0.92      0.96      0.94      5239\n",
      "\n"
     ]
    }
   ],
   "source": [
    "# display classification report\n",
    "print(classification_report(y_test, y_pred))"
   ]
  },
  {
   "cell_type": "code",
   "execution_count": 564,
   "id": "3814ae22-1d54-4a8b-8d1b-57bd310e535e",
   "metadata": {},
   "outputs": [
    {
     "data": {
      "text/plain": [
       "0.9601068906279825"
      ]
     },
     "execution_count": 564,
     "metadata": {},
     "output_type": "execute_result"
    }
   ],
   "source": [
    "from sklearn.metrics import accuracy_score\n",
    "\n",
    "# display accuracy score\n",
    "accuracy_score(y_test, y_pred)"
   ]
  },
  {
   "cell_type": "code",
   "execution_count": 565,
   "id": "db32cba6-08a9-4f9e-b53f-6df324d6975e",
   "metadata": {},
   "outputs": [
    {
     "name": "stdout",
     "output_type": "stream",
     "text": [
      "Accuracy of logistic regression classifier on test set: 0.96\n"
     ]
    }
   ],
   "source": [
    "# display accuracy\n",
    "print('Accuracy of logistic regression classifier on test set: {:.2f}'.format(logreg.score(X_test, y_test)))"
   ]
  },
  {
   "cell_type": "code",
   "execution_count": 566,
   "id": "ff0c4658-1155-443f-bd8c-1d70517d5918",
   "metadata": {},
   "outputs": [
    {
     "data": {
      "image/png": "[encoded data removed]",
      "text/plain": [
       "<Figure size 432x288 with 1 Axes>"
      ]
     },
     "metadata": {},
     "output_type": "display_data"
    }
   ],
   "source": [
    "# display roc curve\n",
    "from sklearn.metrics import roc_auc_score\n",
    "from sklearn.metrics import roc_curve\n",
    "logit_roc_auc = roc_auc_score(y_test, logreg.predict(X_test))\n",
    "fpr, tpr, thresholds = roc_curve(y_test, logreg.predict_proba(X_test)[:,1])\n",
    "plt.figure()\n",
    "plt.plot(fpr, tpr, label='Logistic Regression (area = %0.2f)' % logit_roc_auc)\n",
    "plt.plot([0, 1], [0, 1],'r--')\n",
    "plt.xlim([0.0, 1.0])\n",
    "plt.ylim([0.0, 1.05])\n",
    "plt.xlabel('False Positive Rate')\n",
    "plt.ylabel('True Positive Rate')\n",
    "plt.title('Receiver operating characteristic')\n",
    "plt.legend(loc=\"lower right\")\n",
    "plt.savefig('Log_ROC')\n",
    "plt.show()"
   ]
  },
  {
   "cell_type": "code",
   "execution_count": null,
   "id": "40a37407-c7a0-4292-a677-ccf2768aea36",
   "metadata": {},
   "outputs": [],
   "source": []
  }
 ],
 "metadata": {
  "kernelspec": {
   "display_name": "Python 3 (ipykernel)",
   "language": "python",
   "name": "python3"
  },
  "language_info": {
   "codemirror_mode": {
    "name": "ipython",
    "version": 3
   },
   "file_extension": ".py",
   "mimetype": "text/x-python",
   "name": "python",
   "nbconvert_exporter": "python",
   "pygments_lexer": "ipython3",
   "version": "3.9.12"
  }
 },
 "nbformat": 4,
 "nbformat_minor": 5
}
